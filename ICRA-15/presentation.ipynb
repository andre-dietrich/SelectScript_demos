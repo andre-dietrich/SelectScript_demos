{
 "cells": [
  {
   "cell_type": "markdown",
   "metadata": {
    "slideshow": {
     "slide_type": "slide"
    }
   },
   "source": [
    "# SelectScript: A Query Language for Robotic World Models and Simulations\n",
    "\n",
    "\n",
    "\n",
    "<u>André Dietrich</u>, Sebastian Zug, and Jörg Kaiser\n",
    "\n",
    "Otto-von-Guericke Universität Magdeburg, Germany<br/>\n",
    "Department of Distributed and Embedded Systems\n",
    "\n",
    "<table style=\"border-style: solid; border-width: 0px;\">\n",
    "  <tr style=\"border-style: solid; border-width: 0px;\">\n",
    "    <td width=\"250\" style=\"border-style: solid; border-width: 0px;\"><img src=\"pics/ottoX.png\" width=200 /></td>\n",
    "    <td width=\"150\" style=\"border-style: solid; border-width: 0px;\"><img src=\"pics/ess_neon.png\" width=100 /></td>\n",
    "  </tr>\n",
    "</table> "
   ]
  },
  {
   "cell_type": "markdown",
   "metadata": {
    "collapsed": true,
    "slideshow": {
     "slide_type": "slide"
    }
   },
   "source": [
    "# Prelude\n",
    "<br/>"
   ]
  },
  {
   "cell_type": "markdown",
   "metadata": {
    "slideshow": {
     "slide_type": "subslide"
    }
   },
   "source": [
    "<img src=\"pics/scene.png\" />\n",
    "<a href=\"https://www.youtube.com/watch?v=kvoC5yxdzsw\">source</a><br/>\n",
    "<hr/>\n",
    "<small>Dietrich, A., Zug, S., Mohammad, S., and Kaiser, J. <i>Distributed Managment and Representation of Data and Context in Robotic Applications</i>. In Proceedings of the IEEE/RSJ International Conference on Intelligent Robots and Systems (IROS), 2014</small>"
   ]
  },
  {
   "cell_type": "markdown",
   "metadata": {
    "slideshow": {
     "slide_type": "subslide"
    }
   },
   "source": [
    "## Problems\n",
    "\n",
    "* Failed in defining one interface or protocol that fulfills all requirements\n",
    "* Heterogeneity of simulation environments (and robotic world models)\n",
    "* Extendability …"
   ]
  },
  {
   "cell_type": "markdown",
   "metadata": {
    "slideshow": {
     "slide_type": "subslide"
    }
   },
   "source": [
    "## Our Solution: SelectScript\n",
    "\n",
    "* Implementing a whole query language for simulation environments & robotic world models\n",
    "* Based on SQL semantics\n",
    "* Tiny & embedded language\n",
    "* Used for querying only\n",
    "* Adaptable & extendable\n",
    "* ... with cool new language Features"
   ]
  },
  {
   "cell_type": "markdown",
   "metadata": {
    "slideshow": {
     "slide_type": "slide"
    }
   },
   "source": [
    "# Language Features\n",
    "<br/>"
   ]
  },
  {
   "cell_type": "markdown",
   "metadata": {
    "slideshow": {
     "slide_type": "subslide"
    }
   },
   "source": [
    "## Columns are actually function-calls\n",
    "\n",
    "```SQL\n",
    "\n",
    "SELECT func, func, ...\n",
    "FROM variable|scene|list|...\n",
    "WHERE func < 2 and func==3 ...\n",
    "GROUP BY func ...\n",
    "ORDER BY func, func ASC ...\n",
    "```"
   ]
  },
  {
   "cell_type": "markdown",
   "metadata": {
    "slideshow": {
     "slide_type": "subslide"
    }
   },
   "source": [
    "## Results can be stored in one script and reused\n",
    "\n",
    "```SQL\n",
    "\n",
    "var1 = SELECT ... FROM .... AS dict;\n",
    "var2 = SELECT ... FROM var1 AS list;\n",
    "\n",
    "[var1, var2]; -- return value\n",
    "```\n",
    "<br/>"
   ]
  },
  {
   "cell_type": "markdown",
   "metadata": {
    "slideshow": {
     "slide_type": "subslide"
    }
   },
   "source": [
    "## Temporal Variables\n",
    "\n",
    "```SQL\n",
    "\n",
    "-- definition with time horizon of minus 5sec\n",
    "var{5.0} = SELECT ...\n",
    "\n",
    "var;        -- last value stored\n",
    "var{22.2};  -- value at a specific point in time\n",
    "var{-2.0};  -- values stored within the last 2sec.\n",
    "var{};      -- list with all values ...\n",
    "```\n",
    "<br/>"
   ]
  },
  {
   "cell_type": "markdown",
   "metadata": {
    "slideshow": {
     "slide_type": "subslide"
    }
   },
   "source": [
    "## Various result types\n",
    "\n",
    "```SQL\n",
    "\n",
    "SELECT ... \n",
    "FROM ... \n",
    "AS dictionary  | list | value ... \n",
    "   environment | occupancygrid |\n",
    "   sensormap   | prolog ...```"
   ]
  },
  {
   "cell_type": "markdown",
   "metadata": {
    "slideshow": {
     "slide_type": "subslide"
    }
   },
   "source": [
    "<img src=\"pics/openrave_scene.png\" />"
   ]
  },
  {
   "cell_type": "markdown",
   "metadata": {
    "slideshow": {
     "slide_type": "subslide"
    }
   },
   "source": [
    "### AS environment or occupancygrid\n",
    "\n",
    "```SQL\n",
    "\n",
    "SELECT obj FROM kitchen\n",
    "WHERE distance(roomba,this) <= 1.5 \n",
    "AS environment;\n",
    "-- AS occupancygrid(z_pos=0.2, grid_size=0.01); ```"
   ]
  },
  {
   "cell_type": "markdown",
   "metadata": {
    "slideshow": {
     "slide_type": "subslide"
    }
   },
   "source": [
    "<div style=\"float:left;\">\n",
    "    <h3>... AS environment</h3>\n",
    "    <img src=\"pics/roomba.png\" width=\"550\" />\n",
    "</div>\n",
    "<div style=\"float:right;\">\n",
    "    <h3>... AS occupancygrid</h3>\n",
    "    <img src=\"pics/map.png\" width=\"400\" />\n",
    "</div>"
   ]
  },
  {
   "cell_type": "markdown",
   "metadata": {
    "slideshow": {
     "slide_type": "subslide"
    }
   },
   "source": [
    "## AS sensormap\n",
    "\n",
    "```SQL\n",
    "\n",
    "SELECT obj(o.this), obj(s.this)\n",
    "FROM o=kitchen, s=kitchen\n",
    "WHERE isSensor(s.this) AND\n",
    "      isRobot(o.this) OR isKinbody(o.this)\n",
    "-- GROUP BY id(s.this)\n",
    "AS sensorgrid(zPos=0.3, gridSize=0.025);\n",
    "```"
   ]
  },
  {
   "cell_type": "markdown",
   "metadata": {
    "slideshow": {
     "slide_type": "subslide"
    }
   },
   "source": [
    "<div style=\"float:left;\">\n",
    "    <h3> without grouping </h3>\n",
    "    <img src=\"pics/sensors_map_S3.png\" width=\"370\" />\n",
    "</div>\n",
    "<div style=\"float:right;\">\n",
    "    <h3> grouped by sensor ids </h3>\n",
    "    <img src=\"pics/sensors_map_S2.png\" width=\"570\" />\n",
    "</div>"
   ]
  },
  {
   "cell_type": "markdown",
   "metadata": {
    "slideshow": {
     "slide_type": "subslide"
    }
   },
   "source": [
    "## Application of Triggers\n",
    "\n",
    "```python\n",
    "\n",
    "expr = \"\"\"\n",
    "var{5.0} = SELECT obj(env.this)\n",
    "           FROM env=kitchen, env2=kitchen\n",
    "           WHERE isSensor(env.this) AND\n",
    "                 isRobot(env2.this) AND\n",
    "                 isSensing(env.this, env2.this)\n",
    "           AS list;\n",
    "[getTime(), var{-2}];\"\"\"\n",
    "\n",
    "prog = SelectScript.compile(expr)\n",
    "ssOpenRAVEInterpreter.addTrigger(\"perceiveRobot\",\n",
    "                                  prog, 0.1,\n",
    "                                  callback)``` "
   ]
  },
  {
   "cell_type": "markdown",
   "metadata": {
    "slideshow": {
     "slide_type": "slide"
    }
   },
   "source": [
    "# Future/Current Work\n",
    "<br/>"
   ]
  },
  {
   "cell_type": "markdown",
   "metadata": {
    "slideshow": {
     "slide_type": "subslide"
    }
   },
   "source": [
    "## Parallelization\n",
    "<img src=\"pics/parallelization.png\" />"
   ]
  },
  {
   "cell_type": "markdown",
   "metadata": {
    "slideshow": {
     "slide_type": "subslide"
    }
   },
   "source": [
    "## Additional ...\n",
    "\n",
    "```SQL\n",
    "\n",
    "SELECT ... FROM ...\n",
    "WHERE if(expr, then-stmt, else-stmt)\n",
    "...\n",
    "\n",
    "SELECT ... FROM ...\n",
    "WHERE print(expr, expr, expr, ...)\n",
    "...\n",
    "\n",
    "eval( ... )\n",
    "```"
   ]
  },
  {
   "cell_type": "markdown",
   "metadata": {
    "slideshow": {
     "slide_type": "subslide"
    }
   },
   "source": [
    "## Recursive Queries -> Reasoning\n",
    "\n",
    "```SQL\n",
    "-- Towers of Hanoi --\n",
    "moves = [[0,1],[0,2],[1,0],[1,2],[2,0],[2,1]];\n",
    "              \n",
    "SELECT to(mov.this, str(level)+\".\")\n",
    "FROM   mov=moves\n",
    "WHERE  [[],[],[3,2,1]]==move(mov.this,tower)\n",
    "\n",
    "-- recursion\n",
    "START WITH tower=[[3,2,1],[],[]], level=1\n",
    "CONNECT BY NO CYCLE level=level+1,\n",
    "           tower=move(mov.this,tower)           \n",
    "STOP WITH  level==7 OR ([]==move(mov.this,tower));```"
   ]
  },
  {
   "cell_type": "markdown",
   "metadata": {
    "collapsed": true,
    "slideshow": {
     "slide_type": "slide"
    }
   },
   "source": [
    "# Download\n",
    "\n",
    "<a href=\"https://pythonhosted.org/SelectScript_OpenRAVE\">pip</a><br/>\n",
    "<a href=\"https://gitlab.com/OvGU-ESS/SelectScript_OpenRAVE\">gitlab</a>\n",
    "\n",
    "<a href=\"https://www.youtube.com/user/ivsmagdeburg\">YouTube</a><br/><br/>\n",
    "\n",
    "# Contact\n",
    "\n",
    "{dietrich, zug, kaiser}@ivs.cs.uni-magdeburg.de\n",
    "\n",
    "<a href=\"http://www.ess.ovgu.de\">ESS</a><br/>\n",
    "<a href=\"http://eos.cs.ovgu.de\">EOS</a>"
   ]
  }
 ],
 "metadata": {
  "celltoolbar": "Slideshow",
  "kernelspec": {
   "display_name": "Python 2",
   "language": "python",
   "name": "python2"
  },
  "language_info": {
   "codemirror_mode": {
    "name": "ipython",
    "version": 2
   },
   "file_extension": ".py",
   "mimetype": "text/x-python",
   "name": "python",
   "nbconvert_exporter": "python",
   "pygments_lexer": "ipython2",
   "version": "2.7.6"
  }
 },
 "nbformat": 4,
 "nbformat_minor": 0
}
